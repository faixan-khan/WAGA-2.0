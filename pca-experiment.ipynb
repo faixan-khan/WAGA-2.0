{
 "cells": [
  {
   "cell_type": "markdown",
   "id": "b7568362",
   "metadata": {},
   "source": [
    "# PCA curve.Table 4 and Figure 7 from the paper."
   ]
  },
  {
   "cell_type": "code",
   "execution_count": 2,
   "id": "82fa85c4",
   "metadata": {},
   "outputs": [
    {
     "name": "stdout",
     "output_type": "stream",
     "text": [
      "The autoreload extension is already loaded. To reload it, use:\n",
      "  %reload_ext autoreload\n"
     ]
    }
   ],
   "source": [
    "%load_ext autoreload\n",
    "%autoreload 2"
   ]
  },
  {
   "cell_type": "code",
   "execution_count": 2,
   "id": "698ade48",
   "metadata": {},
   "outputs": [],
   "source": [
    "import pickle\n",
    "from sklearn.decomposition import PCA\n",
    "import numpy as np\n",
    "import matplotlib.pyplot as plt\n",
    "\n",
    "def plot_PCA_curve(all_feats, n_components, draw=None, ax=None, label=None, curve=True, verbose=False):\n",
    "    \n",
    "    pca = PCA(n_components=n_components, svd_solver='full')\n",
    "    pca.fit(all_feats)\n",
    "    if curve:\n",
    "        print(np.cumsum(pca.explained_variance_ratio_)[:20])\n",
    "    if verbose:\n",
    "        print(len(pca.explained_variance_ratio_))\n",
    "    if draw:\n",
    "        if ax is None:\n",
    "            plt.plot(np.cumsum(pca.explained_variance_ratio_[:11]))\n",
    "        else:\n",
    "            ax.plot(np.cumsum(pca.explained_variance_ratio_[:11]), label=label)"
   ]
  },
  {
   "cell_type": "code",
   "execution_count": 3,
   "id": "195fc943",
   "metadata": {
    "scrolled": true
   },
   "outputs": [],
   "source": [
    "import os\n",
    "folder_gen = './datasets/features/generated_art_features/'\n",
    "folder_real = './datasets/features/real_art_features/'"
   ]
  },
  {
   "cell_type": "markdown",
   "id": "1b636911",
   "metadata": {},
   "source": [
    "### select analysis_type as 'gen' for generated art and 'real' for eral art."
   ]
  },
  {
   "cell_type": "code",
   "execution_count": 16,
   "id": "0d6a9f7e",
   "metadata": {},
   "outputs": [],
   "source": [
    "analysis_type = 'gen'\n",
    "if analysis_type == 'real':\n",
    "    folder = folder_real\n",
    "if analysis_type == 'gen':\n",
    "    folder = folder_gen\n",
    "files = os.listdir(folder)"
   ]
  },
  {
   "cell_type": "code",
   "execution_count": 17,
   "id": "16c15669",
   "metadata": {},
   "outputs": [],
   "source": [
    "if analysis_type == 'real':\n",
    "    import pandas as pd\n",
    "    from pathlib import Path\n",
    "    from scipy.io import loadmat\n",
    "    pd.set_option(\"display.max_rows\", None, \"display.max_columns\", None)\n",
    "    df_1k = pd.read_csv('./datasets/processed/combined_wofflins_real.csv')\n",
    "    df_5k = pd.read_csv('./datasets/processed/real_wofflin_scores_combined_normalised.csv')\n",
    "    combined = [df_1k, df_5k]\n",
    "    df = pd.concat(combined)\n",
    "    df['name'] = df['Input.image'].apply(lambda x: Path(x).name)\n",
    "    mat_file = loadmat('./datasets/processed/groundtruth_pruned.mat')\n",
    "    files_im = [Path(f[0][0]).name for f in mat_file['groundtruth_pruned'][0][0][0]]\n",
    "    real_indexes = [files_im.index(f) for f in df.name.values]"
   ]
  },
  {
   "cell_type": "code",
   "execution_count": 18,
   "id": "cd9eb6b9",
   "metadata": {
    "scrolled": true
   },
   "outputs": [
    {
     "name": "stdout",
     "output_type": "stream",
     "text": [
      "resnet101_plus2_StyleCAN1.pkl\n",
      "24\n",
      "resnet101_plus2_StyleCAN2.pkl\n",
      "25\n",
      "resnet101_plus2_StyleCWAN1.pkl\n",
      "24\n",
      "resnet101_plus2_StyleCWAN2.pkl\n",
      "23\n",
      "resnet101_plus2_StyleGAN1.pkl\n",
      "24\n",
      "resnet101_plus2_StyleGAN2.pkl\n",
      "24\n",
      "resnet101_StyleCAN1.pkl\n",
      "170\n",
      "resnet101_StyleCAN2.pkl\n",
      "161\n",
      "resnet101_StyleCWAN1.pkl\n",
      "169\n",
      "resnet101_StyleCWAN2.pkl\n",
      "157\n",
      "resnet101_StyleGAN1.pkl\n",
      "166\n",
      "resnet101_StyleGAN2.pkl\n",
      "160\n",
      "resnet50_plus2_StyleCAN1.pkl\n",
      "25\n",
      "resnet50_plus2_StyleCAN2.pkl\n",
      "26\n",
      "resnet50_plus2_StyleCWAN1.pkl\n",
      "25\n",
      "resnet50_plus2_StyleCWAN2.pkl\n",
      "24\n",
      "resnet50_plus2_StyleGAN1.pkl\n",
      "25\n",
      "resnet50_plus2_StyleGAN2.pkl\n",
      "25\n",
      "resnet50_StyleCAN1.pkl\n",
      "177\n",
      "resnet50_StyleCAN2.pkl\n",
      "169\n",
      "resnet50_StyleCWAN1.pkl\n",
      "175\n",
      "resnet50_StyleCWAN2.pkl\n",
      "163\n",
      "resnet50_StyleGAN1.pkl\n",
      "172\n",
      "resnet50_StyleGAN2.pkl\n",
      "165\n",
      "StyleCAN1_StyleCAN1.pkl\n",
      "85\n",
      "StyleCAN1_StyleCAN2.pkl\n",
      "80\n",
      "StyleCAN1_StyleCWAN1.pkl\n",
      "90\n",
      "StyleCAN1_StyleCWAN2.pkl\n",
      "80\n",
      "StyleCAN1_StyleGAN1.pkl\n",
      "85\n",
      "StyleCAN1_StyleGAN2.pkl\n",
      "77\n",
      "StyleCAN2_StyleCAN1.pkl\n",
      "282\n",
      "StyleCAN2_StyleCAN2.pkl\n",
      "272\n",
      "StyleCAN2_StyleCWAN1.pkl\n",
      "286\n",
      "StyleCAN2_StyleCWAN2.pkl\n",
      "256\n",
      "StyleCAN2_StyleGAN1.pkl\n",
      "274\n",
      "StyleCAN2_StyleGAN2.pkl\n",
      "256\n",
      "StyleCWAN1_StyleCAN1.pkl\n",
      "89\n",
      "StyleCWAN1_StyleCAN2.pkl\n",
      "83\n",
      "StyleCWAN1_StyleCWAN1.pkl\n",
      "92\n",
      "StyleCWAN1_StyleCWAN2.pkl\n",
      "84\n",
      "StyleCWAN1_StyleGAN1.pkl\n",
      "91\n",
      "StyleCWAN1_StyleGAN2.pkl\n",
      "82\n",
      "StyleCWAN2_StyleCAN1.pkl\n",
      "279\n",
      "StyleCWAN2_StyleCAN2.pkl\n",
      "266\n",
      "StyleCWAN2_StyleCWAN1.pkl\n",
      "282\n",
      "StyleCWAN2_StyleCWAN2.pkl\n",
      "253\n",
      "StyleCWAN2_StyleGAN1.pkl\n",
      "269\n",
      "StyleCWAN2_StyleGAN2.pkl\n",
      "251\n",
      "StyleGAN1_StyleCAN1.pkl\n",
      "101\n",
      "StyleGAN1_StyleCAN2.pkl\n",
      "94\n",
      "StyleGAN1_StyleCWAN1.pkl\n",
      "102\n",
      "StyleGAN1_StyleCWAN2.pkl\n",
      "95\n",
      "StyleGAN1_StyleGAN1.pkl\n",
      "98\n",
      "StyleGAN1_StyleGAN2.pkl\n",
      "91\n",
      "StyleGAN2_StyleCAN1.pkl\n",
      "207\n",
      "StyleGAN2_StyleCAN2.pkl\n",
      "199\n",
      "StyleGAN2_StyleCWAN1.pkl\n",
      "221\n",
      "StyleGAN2_StyleCWAN2.pkl\n",
      "193\n",
      "StyleGAN2_StyleGAN1.pkl\n",
      "209\n",
      "StyleGAN2_StyleGAN2.pkl\n",
      "190\n",
      "vgg16_plus2_StyleCAN1.pkl\n",
      "13\n",
      "vgg16_plus2_StyleCAN2.pkl\n",
      "16\n",
      "vgg16_plus2_StyleCWAN1.pkl\n",
      "14\n",
      "vgg16_plus2_StyleCWAN2.pkl\n",
      "14\n",
      "vgg16_plus2_StyleGAN1.pkl\n",
      "14\n",
      "vgg16_plus2_StyleGAN2.pkl\n",
      "15\n",
      "vgg16_StyleCAN1.pkl\n",
      "330\n",
      "vgg16_StyleCAN2.pkl\n",
      "330\n",
      "vgg16_StyleCWAN1.pkl\n",
      "329\n",
      "vgg16_StyleCWAN2.pkl\n",
      "328\n",
      "vgg16_StyleGAN1.pkl\n",
      "329\n",
      "vgg16_StyleGAN2.pkl\n",
      "329\n"
     ]
    },
    {
     "data": {
      "image/png": "[encoded data removed]",
      "text/plain": [
       "<Figure size 432x288 with 1 Axes>"
      ]
     },
     "metadata": {
      "needs_background": "light"
     },
     "output_type": "display_data"
    }
   ],
   "source": [
    "fig, ax = plt.subplots()\n",
    "for idx,file in enumerate(files):        \n",
    "    print(file)\n",
    "    label=file.split('_')\n",
    "    with open(os.path.join(folder, file), 'rb') as f:\n",
    "        feats = pickle.load(f)\n",
    "    if analysis_type == 'real':\n",
    "        feats = feats[real_indexes]\n",
    "    if label[0] == 'resnet50' and label[1] != 'StyleGAN1.pkl' and label[1] != 'StyleCAN1.pkl' and label[1] != 'plus2':\n",
    "        plot_PCA_curve(feats, 0.95,ax=ax, label=label[0]+label[1], draw=True, curve=False, verbose=True)\n",
    "    else:\n",
    "        plot_PCA_curve(feats, 0.95,ax=ax, label=label[0]+label[1], draw=False, curve=False, verbose=True)\n",
    "        \n",
    "plt.xticks()\n",
    "locs, labels = plt.xticks()  # Get the current locations and labels.\n",
    "plt.xticks(np.arange(0, 11, step=1))  # Set label locations.\n",
    "# plt.xticks([])  # Disable\n",
    "leg = ax.legend(loc='upper left', frameon=False)"
   ]
  },
  {
   "cell_type": "markdown",
   "id": "d0596f7a",
   "metadata": {},
   "source": [
    "### As the plot in the above cell is not clear, we make use of values obtained in the below cells and plot them [here](https://public.flourish.studio/visualisation/9014204/). To get the values, set curve=True.\n",
    "\n",
    "### The plot using Resnet50 feature representations is [here](https://public.flourish.studio/visualisation/8915461/)."
   ]
  },
  {
   "cell_type": "markdown",
   "id": "6c41834e",
   "metadata": {},
   "source": [
    "# For the figure in the paper we use feature representations from StyleGAN2."
   ]
  },
  {
   "cell_type": "code",
   "execution_count": 7,
   "id": "c7c4bae5",
   "metadata": {},
   "outputs": [],
   "source": [
    "folder = folder_gen\n",
    "files = os.listdir(folder)"
   ]
  },
  {
   "cell_type": "code",
   "execution_count": 8,
   "id": "ec46dfd8",
   "metadata": {
    "scrolled": true
   },
   "outputs": [
    {
     "name": "stdout",
     "output_type": "stream",
     "text": [
      "StyleGAN2_StyleCAN1.pkl\n",
      "[0.19172609 0.28134602 0.3227271  0.35905334 0.39264503 0.41946855\n",
      " 0.44073707 0.45928812 0.47567308 0.48933393 0.5021688  0.5143803\n",
      " 0.5252355  0.53499913 0.5442392  0.5533568  0.5621187  0.57079107\n",
      " 0.5788975  0.5868105 ]\n",
      "207\n",
      "StyleGAN2_StyleCAN2.pkl\n",
      "[0.18301883 0.2833823  0.32452068 0.35973412 0.39111793 0.4211764\n",
      " 0.44695973 0.4651443  0.48237702 0.4973759  0.5110077  0.5241102\n",
      " 0.535368   0.5458815  0.55581635 0.5654576  0.5740289  0.5823053\n",
      " 0.5902025  0.5979727 ]\n",
      "199\n",
      "StyleGAN2_StyleCWAN1.pkl\n",
      "[0.16176032 0.21896216 0.25986373 0.29296952 0.3223434  0.34903556\n",
      " 0.3698472  0.38835543 0.4058938  0.42104635 0.43525723 0.4493631\n",
      " 0.46233398 0.47382015 0.4848712  0.4954475  0.5057635  0.5158966\n",
      " 0.5251488  0.53407454]\n",
      "221\n",
      "StyleGAN2_StyleCWAN2.pkl\n",
      "[0.1779452  0.23948346 0.28297684 0.32545274 0.36353385 0.39418966\n",
      " 0.42081493 0.44312346 0.46167102 0.47836277 0.49287146 0.5065925\n",
      " 0.5189216  0.5303861  0.540857   0.5511002  0.56066865 0.5697858\n",
      " 0.57873017 0.58723915]\n",
      "193\n",
      "StyleGAN2_StyleGAN1.pkl\n",
      "[0.15321976 0.23910995 0.28973517 0.32014203 0.35049498 0.37562987\n",
      " 0.3939746  0.41173935 0.42805213 0.44325897 0.45595598 0.46828276\n",
      " 0.48003942 0.4915591  0.5024743  0.5132274  0.5231336  0.532582\n",
      " 0.5416093  0.55044496]\n",
      "209\n",
      "StyleGAN2_StyleGAN2.pkl\n",
      "[0.17237899 0.25855675 0.30855924 0.34605342 0.38220805 0.4076846\n",
      " 0.429424   0.44919145 0.46639174 0.4832477  0.4993754  0.51431465\n",
      " 0.5266148  0.53878605 0.5498974  0.5605579  0.57007444 0.57917166\n",
      " 0.58773106 0.5960978 ]\n",
      "190\n"
     ]
    },
    {
     "data": {
      "image/png": "[encoded data removed]",
      "text/plain": [
       "<Figure size 432x288 with 1 Axes>"
      ]
     },
     "metadata": {
      "needs_background": "light"
     },
     "output_type": "display_data"
    }
   ],
   "source": [
    "fig, ax = plt.subplots()\n",
    "for idx,file in enumerate(files):        \n",
    "    label=file.split('_')\n",
    "    if label[0] == 'StyleGAN2':\n",
    "        print(file)\n",
    "        with open(os.path.join(folder, file), 'rb') as f:\n",
    "            feats = pickle.load(f)\n",
    "        plot_PCA_curve(feats, 0.95,ax=ax, label=label[0]+label[1], draw=True, curve=True, verbose=True)\n",
    "plt.xticks()\n",
    "locs, labels = plt.xticks()  # Get the current locations and labels.\n",
    "plt.xticks(np.arange(0, 11, step=1))  # Set label locations.\n",
    "leg = ax.legend(loc='upper left', frameon=False)"
   ]
  },
  {
   "cell_type": "markdown",
   "id": "949d9bcd",
   "metadata": {},
   "source": [
    "## Real art with 400 samples and 10 tries"
   ]
  },
  {
   "cell_type": "code",
   "execution_count": 9,
   "id": "47cb8d61",
   "metadata": {},
   "outputs": [],
   "source": [
    "folder = folder_real\n",
    "files = os.listdir(folder)"
   ]
  },
  {
   "cell_type": "code",
   "execution_count": 10,
   "id": "5438ee14",
   "metadata": {},
   "outputs": [],
   "source": [
    "with open(os.path.join(folder, files[8]), 'rb') as f:\n",
    "            feats = pickle.load(f)\n",
    "features = feats[real_indexes]"
   ]
  },
  {
   "cell_type": "code",
   "execution_count": 11,
   "id": "7492155d",
   "metadata": {},
   "outputs": [],
   "source": [
    "def random_PCA_curve(all_feats, n_components):\n",
    "    pca = PCA(n_components=n_components, svd_solver='full')\n",
    "    pca.fit(all_feats)\n",
    "    print(np.cumsum(pca.explained_variance_ratio_)[:20])\n",
    "    return np.cumsum(pca.explained_variance_ratio_)"
   ]
  },
  {
   "cell_type": "code",
   "execution_count": 12,
   "id": "3c7fa486",
   "metadata": {
    "scrolled": true
   },
   "outputs": [
    {
     "name": "stdout",
     "output_type": "stream",
     "text": [
      "[0.20688505 0.31603968 0.35867995 0.39367044 0.42638028 0.45452398\n",
      " 0.4730131  0.48902205 0.50470364 0.51898724 0.5311255  0.5429003\n",
      " 0.55347914 0.5633253  0.57294405 0.5816567  0.5896984  0.59758854\n",
      " 0.6049106  0.6119928 ]\n",
      "[0.19299209 0.27971828 0.3311607  0.36457992 0.39386648 0.42156097\n",
      " 0.44084892 0.4577782  0.4736115  0.48877737 0.5028134  0.5161227\n",
      " 0.5277021  0.5389454  0.5493466  0.55919355 0.56840885 0.57703453\n",
      " 0.585395   0.59319   ]\n",
      "[0.22318129 0.29681045 0.34357512 0.38599375 0.41878012 0.44549116\n",
      " 0.46726534 0.48434934 0.4998933  0.51485    0.5282688  0.5404962\n",
      " 0.5519971  0.5627029  0.5727188  0.582316   0.5911687  0.5995578\n",
      " 0.60762525 0.6152149 ]\n",
      "[0.2022815  0.29593006 0.3457974  0.38699877 0.41622838 0.44249532\n",
      " 0.46579137 0.48537338 0.5025327  0.5168749  0.53057766 0.5434538\n",
      " 0.55529463 0.5657695  0.57565296 0.5853963  0.59449106 0.6027602\n",
      " 0.6103228  0.6178192 ]\n",
      "[0.20203547 0.3035563  0.3423046  0.37654102 0.40762797 0.4347484\n",
      " 0.4536954  0.47109246 0.48784938 0.5020028  0.5156056  0.52822053\n",
      " 0.53958637 0.5501472  0.560338   0.56998134 0.57899046 0.5875368\n",
      " 0.5955751  0.6032557 ]\n",
      "[0.21514657 0.2995283  0.3444264  0.38324916 0.4170482  0.44716316\n",
      " 0.47056866 0.48881957 0.50598806 0.52101827 0.53440076 0.5458464\n",
      " 0.5570421  0.5675384  0.5771932  0.5864115  0.59485674 0.60293883\n",
      " 0.6106692  0.6183338 ]\n",
      "[0.17597839 0.28959718 0.33663043 0.37615043 0.40411824 0.42927882\n",
      " 0.44937766 0.46604678 0.4823656  0.49708417 0.51001483 0.52202314\n",
      " 0.53351665 0.5438786  0.55381304 0.5628577  0.57164603 0.5799583\n",
      " 0.5880512  0.59609157]\n",
      "[0.19327094 0.29239058 0.33697605 0.37676793 0.4044313  0.43061504\n",
      " 0.4525062  0.47100577 0.48688456 0.50060314 0.51314574 0.52546626\n",
      " 0.5365261  0.5468781  0.5570946  0.5666875  0.5760568  0.58463085\n",
      " 0.5926974  0.6004885 ]\n",
      "[0.21692829 0.30918834 0.35717654 0.39735922 0.43111992 0.45755896\n",
      " 0.48157358 0.49777365 0.51227444 0.5260846  0.5391608  0.55113995\n",
      " 0.56235015 0.5731327  0.5830484  0.591915   0.6000312  0.60774803\n",
      " 0.6154037  0.62251574]\n",
      "[0.17806219 0.26719454 0.3155098  0.35745472 0.39161628 0.42208242\n",
      " 0.44611466 0.46609864 0.48243877 0.49781457 0.51185584 0.524409\n",
      " 0.5365594  0.54754966 0.55747855 0.5666814  0.5751706  0.5836132\n",
      " 0.59163684 0.59944206]\n"
     ]
    }
   ],
   "source": [
    "import random\n",
    "variance = []\n",
    "for i in range(10):\n",
    "    indexes=random.sample(range(1, features.shape[0]-1), 400)    \n",
    "    variance.append(random_PCA_curve(features[indexes], 0.95))"
   ]
  },
  {
   "cell_type": "code",
   "execution_count": 13,
   "id": "5ed3495f",
   "metadata": {},
   "outputs": [],
   "source": [
    "average_ratio = np.zeros((25))"
   ]
  },
  {
   "cell_type": "code",
   "execution_count": 14,
   "id": "73f4713e",
   "metadata": {},
   "outputs": [],
   "source": [
    "for i in variance:\n",
    "    for idx,ratio in enumerate(i):\n",
    "        if idx>=25:\n",
    "            break\n",
    "        average_ratio[idx]+=ratio\n",
    "#         print(idx,ratio)|"
   ]
  },
  {
   "cell_type": "code",
   "execution_count": 15,
   "id": "b9413419",
   "metadata": {},
   "outputs": [
    {
     "data": {
      "text/plain": [
       "array([0.20067618, 0.29499537, 0.3412237 , 0.37987654, 0.41112172,\n",
       "       0.43855183, 0.46007549, 0.47773598, 0.4938542 , 0.50840971,\n",
       "       0.5216969 , 0.53400783, 0.54540538, 0.55598677, 0.56596282,\n",
       "       0.57530969, 0.58405188, 0.59233671, 0.6002287 , 0.60783442,\n",
       "       0.6151618 , 0.62214144, 0.62887507, 0.63535836, 0.64158425])"
      ]
     },
     "execution_count": 15,
     "metadata": {},
     "output_type": "execute_result"
    }
   ],
   "source": [
    "average_ratio/10"
   ]
  }
 ],
 "metadata": {
  "kernelspec": {
   "display_name": "Python 3 (ipykernel)",
   "language": "python",
   "name": "python3"
  },
  "language_info": {
   "codemirror_mode": {
    "name": "ipython",
    "version": 3
   },
   "file_extension": ".py",
   "mimetype": "text/x-python",
   "name": "python",
   "nbconvert_exporter": "python",
   "pygments_lexer": "ipython3",
   "version": "3.7.10"
  }
 },
 "nbformat": 4,
 "nbformat_minor": 5
}
